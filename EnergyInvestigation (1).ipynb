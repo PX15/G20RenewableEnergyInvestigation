{
 "cells": [
  {
   "cell_type": "code",
   "execution_count": 1,
   "metadata": {},
   "outputs": [],
   "source": [
    "import csv\n",
    "import pandas as pd\n",
    "import numpy as np\n",
    "import matplotlib.pyplot as plt"
   ]
  },
  {
   "cell_type": "markdown",
   "metadata": {},
   "source": [
    "I imported csv to be able to work with csv files in my project. I imported pandas and numpy because I need to work with dataframe and some of the numpy methods like np.isnan() from the package. I imported matplotlib to graph some of my data."
   ]
  },
  {
   "cell_type": "markdown",
   "metadata": {},
   "source": [
    "1. What is the trend of renewable energy as % of primary energy supply of the G20 countries for the past 5 years?"
   ]
  },
  {
   "cell_type": "markdown",
   "metadata": {},
   "source": [
    "Note:\n",
    "I imported the data of % of primary energy supply(renewable) of the past 5 years from the G20 countries. Cleaned the data by only selecting the countries and their corresponding values to create my datafram. I set the index to the countries and rename the values to % of primary energy supply(renewable). Then I created a graph that would show the trends of renewable energy development for these countries."
   ]
  },
  {
   "cell_type": "code",
   "execution_count": 2,
   "metadata": {},
   "outputs": [
    {
     "data": {
      "image/png": "[encoded data removed]",
      "text/plain": [
       "<Figure size 432x288 with 1 Axes>"
      ]
     },
     "metadata": {
      "needs_background": "light"
     },
     "output_type": "display_data"
    }
   ],
   "source": [
    "df = pd.read_csv(\"5yrrenew.csv\") #import 5 year renewable data csv\n",
    "df = df[[\"LOCATION\", \"Value\"]] #use only the Location and value columns\n",
    "df = df.set_index(\"LOCATION\") #Make Country as index\n",
    "df = df.rename(columns={'Value': 'Total, % of primary energy supply(Renewable)'}) #rename column of Value to Total, % of primary energy supply(Renewable)\n",
    "\n",
    "df.plot.bar() #produce a bar graph of the renewable energy trend\n",
    "plt.show() #show graph"
   ]
  },
  {
   "cell_type": "code",
   "execution_count": 3,
   "metadata": {},
   "outputs": [
    {
     "data": {
      "text/html": [
       "<div>\n",
       "<style scoped>\n",
       "    .dataframe tbody tr th:only-of-type {\n",
       "        vertical-align: middle;\n",
       "    }\n",
       "\n",
       "    .dataframe tbody tr th {\n",
       "        vertical-align: top;\n",
       "    }\n",
       "\n",
       "    .dataframe thead th {\n",
       "        text-align: right;\n",
       "    }\n",
       "</style>\n",
       "<table border=\"1\" class=\"dataframe\">\n",
       "  <thead>\n",
       "    <tr style=\"text-align: right;\">\n",
       "      <th></th>\n",
       "      <th>Total, % of primary energy supply(Renewable)</th>\n",
       "    </tr>\n",
       "    <tr>\n",
       "      <th>LOCATION</th>\n",
       "      <th></th>\n",
       "    </tr>\n",
       "  </thead>\n",
       "  <tbody>\n",
       "    <tr>\n",
       "      <th>AUS</th>\n",
       "      <td>6.321681</td>\n",
       "    </tr>\n",
       "    <tr>\n",
       "      <th>AUS</th>\n",
       "      <td>6.554044</td>\n",
       "    </tr>\n",
       "    <tr>\n",
       "      <th>AUS</th>\n",
       "      <td>6.957394</td>\n",
       "    </tr>\n",
       "    <tr>\n",
       "      <th>AUS</th>\n",
       "      <td>7.036090</td>\n",
       "    </tr>\n",
       "    <tr>\n",
       "      <th>AUS</th>\n",
       "      <td>7.312959</td>\n",
       "    </tr>\n",
       "    <tr>\n",
       "      <th>...</th>\n",
       "      <td>...</td>\n",
       "    </tr>\n",
       "    <tr>\n",
       "      <th>EU27_2020</th>\n",
       "      <td>14.045980</td>\n",
       "    </tr>\n",
       "    <tr>\n",
       "      <th>EU27_2020</th>\n",
       "      <td>14.150340</td>\n",
       "    </tr>\n",
       "    <tr>\n",
       "      <th>EU27_2020</th>\n",
       "      <td>14.183970</td>\n",
       "    </tr>\n",
       "    <tr>\n",
       "      <th>EU27_2020</th>\n",
       "      <td>14.742350</td>\n",
       "    </tr>\n",
       "    <tr>\n",
       "      <th>EU27_2020</th>\n",
       "      <td>15.482430</td>\n",
       "    </tr>\n",
       "  </tbody>\n",
       "</table>\n",
       "<p>119 rows × 1 columns</p>\n",
       "</div>"
      ],
      "text/plain": [
       "           Total, % of primary energy supply(Renewable)\n",
       "LOCATION                                               \n",
       "AUS                                            6.321681\n",
       "AUS                                            6.554044\n",
       "AUS                                            6.957394\n",
       "AUS                                            7.036090\n",
       "AUS                                            7.312959\n",
       "...                                                 ...\n",
       "EU27_2020                                     14.045980\n",
       "EU27_2020                                     14.150340\n",
       "EU27_2020                                     14.183970\n",
       "EU27_2020                                     14.742350\n",
       "EU27_2020                                     15.482430\n",
       "\n",
       "[119 rows x 1 columns]"
      ]
     },
     "execution_count": 3,
     "metadata": {},
     "output_type": "execute_result"
    }
   ],
   "source": [
    "df"
   ]
  },
  {
   "cell_type": "code",
   "execution_count": 3,
   "metadata": {},
   "outputs": [
    {
     "name": "stdout",
     "output_type": "stream",
     "text": [
      "<class 'pandas.core.frame.DataFrame'>\n",
      "Index: 119 entries, AUS to EU27_2020\n",
      "Data columns (total 1 columns):\n",
      "Total, % of primary energy supply(Renewable)    119 non-null float64\n",
      "dtypes: float64(1)\n",
      "memory usage: 1.9+ KB\n",
      "None\n"
     ]
    }
   ],
   "source": [
    "print(df.info())"
   ]
  },
  {
   "cell_type": "markdown",
   "metadata": {},
   "source": [
    "Ans: We can see that the trend of % of primary energy supply being renewable energy for G20 countries for the past 5 years are in an increasing trend."
   ]
  },
  {
   "cell_type": "markdown",
   "metadata": {},
   "source": [
    "2. How does the % of primary energy supply(Renewable) compare to % of primary energy supply(Non-renewable) for the G20 countries in 2019? Which country has highest % renewable energy as their primary energy supply, and which country has lowest % renewable energy as their primary energy supply among the G20 countries?"
   ]
  },
  {
   "cell_type": "markdown",
   "metadata": {},
   "source": [
    "Note:\n",
    "I imported the data of % of primary energy supply(renewable) from 2019 of the G20 countries. Cleaned the data by only selecting the countries and their corresponding values to create my dataframe. I set the index to the countries and rename the values to % of primary energy supply(renewable). I calculated the % of primary energy supply(non-renewable) by using the data that I have for % renewable energy. I then put the % non-renewable and renewable energy side by side in a dataframe and created a graph to illustrate the differences, and find out which coutry has the highest and lowest % of primary energy supply in renewable energy."
   ]
  },
  {
   "cell_type": "code",
   "execution_count": 4,
   "metadata": {},
   "outputs": [
    {
     "name": "stdout",
     "output_type": "stream",
     "text": [
      "           Total, % of primary energy supply(Renewable)  \\\n",
      "LOCATION                                                  \n",
      "AUS                                            7.312959   \n",
      "CAN                                           16.153870   \n",
      "FRA                                           10.613270   \n",
      "DEU                                           15.018650   \n",
      "ITA                                           18.134140   \n",
      "JPN                                            6.270579   \n",
      "KOR                                            2.000436   \n",
      "MEX                                            8.609434   \n",
      "TUR                                           15.931540   \n",
      "GBR                                           12.224810   \n",
      "USA                                            7.903494   \n",
      "ARG                                            8.571218   \n",
      "BRA                                           45.622740   \n",
      "CHN                                            9.673476   \n",
      "IND                                           23.134850   \n",
      "IDN                                           23.879540   \n",
      "RUS                                            2.580188   \n",
      "SAU                                            0.020953   \n",
      "ZAF                                            6.586925   \n",
      "EU28                                          15.129140   \n",
      "EU27_2020                                     15.482430   \n",
      "\n",
      "           Total, % of primary energy supply(Non-Renewable)  \n",
      "LOCATION                                                     \n",
      "AUS                                               92.687041  \n",
      "CAN                                               83.846130  \n",
      "FRA                                               89.386730  \n",
      "DEU                                               84.981350  \n",
      "ITA                                               81.865860  \n",
      "JPN                                               93.729421  \n",
      "KOR                                               97.999564  \n",
      "MEX                                               91.390566  \n",
      "TUR                                               84.068460  \n",
      "GBR                                               87.775190  \n",
      "USA                                               92.096506  \n",
      "ARG                                               91.428782  \n",
      "BRA                                               54.377260  \n",
      "CHN                                               90.326524  \n",
      "IND                                               76.865150  \n",
      "IDN                                               76.120460  \n",
      "RUS                                               97.419812  \n",
      "SAU                                               99.979047  \n",
      "ZAF                                               93.413075  \n",
      "EU28                                              84.870860  \n",
      "EU27_2020                                         84.517570  \n",
      "       Total, % of primary energy supply(Renewable)  \\\n",
      "count                                     21.000000   \n",
      "mean                                      12.897840   \n",
      "std                                        9.858440   \n",
      "min                                        0.020953   \n",
      "25%                                        7.312959   \n",
      "50%                                       10.613270   \n",
      "75%                                       15.931540   \n",
      "max                                       45.622740   \n",
      "\n",
      "       Total, % of primary energy supply(Non-Renewable)  \n",
      "count                                         21.000000  \n",
      "mean                                          87.102160  \n",
      "std                                            9.858440  \n",
      "min                                           54.377260  \n",
      "25%                                           84.068460  \n",
      "50%                                           89.386730  \n",
      "75%                                           92.687041  \n",
      "max                                           99.979047  \n",
      "<class 'pandas.core.frame.DataFrame'>\n",
      "Index: 21 entries, AUS to EU27_2020\n",
      "Data columns (total 2 columns):\n",
      "Total, % of primary energy supply(Renewable)        21 non-null float64\n",
      "Total, % of primary energy supply(Non-Renewable)    21 non-null float64\n",
      "dtypes: float64(2)\n",
      "memory usage: 504.0+ bytes\n"
     ]
    },
    {
     "data": {
      "image/png": "[encoded data removed]",
      "text/plain": [
       "<Figure size 432x288 with 1 Axes>"
      ]
     },
     "metadata": {
      "needs_background": "light"
     },
     "output_type": "display_data"
    }
   ],
   "source": [
    "df1 = pd.read_csv(\"2019renew.csv\") #df1 is % of primary energy supply as renewable energy 2019\n",
    "df1 = df1[[\"LOCATION\", \"Value\"]] #use only the Location and value columns\n",
    "df1 = df1.set_index(\"LOCATION\") #Make Country as index\n",
    "df1 = df1.rename(columns={'Value': 'Total, % of primary energy supply(Renewable)'}) #rename the Value Column to Total, % of primary energy supply(Renewable)\n",
    "\n",
    "#calculate the % of primary energy supply (Non-renewable)\n",
    "nonren = []\n",
    "for x in df1['Total, % of primary energy supply(Renewable)']:\n",
    "    nonren.append(100 -x) #Store the result in list\n",
    "\n",
    "df1['Total, % of primary energy supply(Non-Renewable)'] = nonren\n",
    "print(df1)\n",
    "print(df1.describe())\n",
    "df1.info()\n",
    "\n",
    "df1.plot.bar()\n",
    "plt.show()"
   ]
  },
  {
   "cell_type": "code",
   "execution_count": 5,
   "metadata": {},
   "outputs": [
    {
     "name": "stdout",
     "output_type": "stream",
     "text": [
      "In 2019, the country who has the highest and lowest % of primary energy supply in renewable energy are BRA, and SAU respectively.\n"
     ]
    }
   ],
   "source": [
    "renE = df1['Total, % of primary energy supply(Renewable)'] #selet column for renewable energy\n",
    "renEmax = renE.idxmax() #find country with highest % of primary energy supply in renewable energy\n",
    "renEmin = renE.idxmin() #find country with lowest % of primary energy supply in renewable energy\n",
    "print(\"In 2019, the country who has the highest and lowest % of primary energy supply in renewable energy are {0}, and {1} respectively.\".format(renEmax, renEmin))"
   ]
  },
  {
   "cell_type": "markdown",
   "metadata": {},
   "source": [
    "Ans: As of 2019, non-renewable energy still contributes the most % to the total primary energy supply of the G20 countries. Brazil is producing the highest % of renewable energy as their highest primary energy supply and Saudi Arabia is producing the lowest %. Since we have seen that the trend of renewable energies for the G20 trend is increaing, it is fair to assume that % of primary energy supply being renewable energy for the G20 countries would gradually increase in the near future."
   ]
  },
  {
   "cell_type": "markdown",
   "metadata": {},
   "source": [
    "3. Do % primary energy supply in renewable energy affect the amount of electricity generated? (2017-2019)"
   ]
  },
  {
   "cell_type": "markdown",
   "metadata": {},
   "source": [
    "Note:\n",
    "I wrote a function to find out the correlation coefficient between two variables. I cleaned the data in similar ways as above, but this time, I also incorporated data on ELectricity generated and the data is for all countries around the globe. (that have available data) Another thing that I did in cleaning the data is to replace the NaN values with 0s in order to obtain a graph that would illustrate the relationship between Electricity Generated and % primary energy supply(renewable). I repeated the steps for all 3 years between 2017-2019. I obtain a correlation coefficient for each year between the 2 variables and eventually come up with a conclusion based on both the graphs and the coefficients."
   ]
  },
  {
   "cell_type": "code",
   "execution_count": 6,
   "metadata": {},
   "outputs": [],
   "source": [
    "#function to find correlation coefficient\n",
    "def correlation_coeff(n, m):\n",
    "    indices = []\n",
    " # Find indices where an element is nan in either m or m\n",
    "    for i in range(len(n)):\n",
    "        if np.isnan(n[i]) or np.isnan(m[i]):\n",
    "             indices.append(i)\n",
    " # Create new n and m without any nan values\n",
    "        new_n = [n[i] for i in range(len(n)) if i not in indices]\n",
    "        new_m = [m[i] for i in range(len(m)) if i not in indices]\n",
    " # Return correlation coefficient between X and Y\n",
    "    return np.corrcoef(new_n, new_m)[0, 1]"
   ]
  },
  {
   "cell_type": "markdown",
   "metadata": {},
   "source": [
    "Finding relationship for 2017"
   ]
  },
  {
   "cell_type": "code",
   "execution_count": 7,
   "metadata": {},
   "outputs": [],
   "source": [
    "dfe = pd.read_csv(\"elecgen2017.csv\") #dfe is Electricity produced in Gigawatt-hour for G20 in 2017\n",
    "dfe = dfe[[\"LOCATION\", \"Value\"]] #select countries and electricity generated data only\n",
    "dfe = dfe.set_index(\"LOCATION\") #Make Country as index\n",
    "dfe = dfe.rename(columns={'Value': 'Eletricity Generated(GWh), 2017'}) #rename Value to Electricity Generated column for dfe"
   ]
  },
  {
   "cell_type": "code",
   "execution_count": 8,
   "metadata": {},
   "outputs": [],
   "source": [
    "df7 = pd.read_csv(\"2017renew.csv\") #df7 is % of primary energy supply for renewable energy 2017\n",
    "df7 = df7[[\"LOCATION\", \"Value\"]] #select countries and % of primary energy supply(renewable) only\n",
    "df7 = df7.set_index(\"LOCATION\") #Make Country as index\n",
    "df7 = df7.rename(columns={'Value': 'Total, % of primary energy supply(Renewable), 2017'}) #rename Value to % of primary energy supply (renewable) column for df7"
   ]
  },
  {
   "cell_type": "code",
   "execution_count": 9,
   "metadata": {},
   "outputs": [
    {
     "name": "stdout",
     "output_type": "stream",
     "text": [
      "     Eletricity Generated(GWh), 2017  \\\n",
      "AGO                            0.000   \n",
      "ALB                         4497.807   \n",
      "ARE                            0.000   \n",
      "ARG                            0.000   \n",
      "ARM                            0.000   \n",
      "..                               ...   \n",
      "WLD                            0.000   \n",
      "YEM                            0.000   \n",
      "ZAF                            0.000   \n",
      "ZMB                            0.000   \n",
      "ZWE                            0.000   \n",
      "\n",
      "     Total, % of primary energy supply(Renewable), 2017  \n",
      "AGO                                          53.157570   \n",
      "ALB                                          27.384660   \n",
      "ARE                                           0.220792   \n",
      "ARG                                           8.055003   \n",
      "ARM                                          10.047360   \n",
      "..                                                 ...   \n",
      "WLD                                          13.385500   \n",
      "YEM                                           4.391290   \n",
      "ZAF                                           6.627430   \n",
      "ZMB                                          81.153860   \n",
      "ZWE                                          72.928180   \n",
      "\n",
      "[145 rows x 2 columns]\n"
     ]
    },
    {
     "name": "stderr",
     "output_type": "stream",
     "text": [
      "/Users/percy/opt/anaconda3/lib/python3.7/site-packages/ipykernel_launcher.py:1: FutureWarning: Sorting because non-concatenation axis is not aligned. A future version\n",
      "of pandas will change to not sort by default.\n",
      "\n",
      "To accept the future behavior, pass 'sort=False'.\n",
      "\n",
      "To retain the current behavior and silence the warning, pass 'sort=True'.\n",
      "\n",
      "  \"\"\"Entry point for launching an IPython kernel.\n"
     ]
    }
   ],
   "source": [
    "tabl0 = pd.concat([dfe, df7], axis=1) #merge the dataframe of dfe and df7 side by side\n",
    "\n",
    "#replace nan in either column with 0\n",
    "for i in range(len(tabl0[['Total, % of primary energy supply(Renewable), 2017']])):\n",
    "    if np.isnan(tabl0.iloc[i,0]):\n",
    "        tabl0.iloc[i,0] = 0\n",
    "    if np.isnan(tabl0.iloc[i,1]):\n",
    "        tabl0.iloc[i,1] = 0\n",
    "        \n",
    "    \n",
    "print(tabl0)"
   ]
  },
  {
   "cell_type": "code",
   "execution_count": 10,
   "metadata": {},
   "outputs": [
    {
     "name": "stdout",
     "output_type": "stream",
     "text": [
      "In 2017, the correlation coefficient between Enelectricy Generated by countries and % of primary renewable energy supply is -0.11189937597193365.\n"
     ]
    },
    {
     "data": {
      "image/png": "[encoded data removed]",
      "text/plain": [
       "<Figure size 432x288 with 1 Axes>"
      ]
     },
     "metadata": {
      "needs_background": "light"
     },
     "output_type": "display_data"
    }
   ],
   "source": [
    "plt.scatter(tabl0['Total, % of primary energy supply(Renewable), 2017'], tabl0['Eletricity Generated(GWh), 2017']) #create a scatter plot between the variables\n",
    "coeff = correlation_coeff(tabl0['Total, % of primary energy supply(Renewable), 2017'], tabl0['Eletricity Generated(GWh), 2017']) #find the correlaiton coefficient\n",
    "print(\"In 2017, the correlation coefficient between Enelectricy Generated by countries and % of primary renewable energy supply is {0}.\".format(coeff))"
   ]
  },
  {
   "cell_type": "markdown",
   "metadata": {},
   "source": [
    "Find the relationship in 2018"
   ]
  },
  {
   "cell_type": "code",
   "execution_count": 11,
   "metadata": {},
   "outputs": [],
   "source": [
    "df9 = pd.read_csv(\"ele2018all.csv\") #df9 is Electricity produced in Gigawatt-hour globally in 2018\n",
    "df9 = df9[[\"LOCATION\", \"Value\"]] #select countries and electricity generated data only\n",
    "df9 = df9.set_index(\"LOCATION\") #Make Country as index\n",
    "df9 = df9.rename(columns={'Value': 'Eletricity Generated(GWh), 2018'}) #rename Value to Electricity Generated column for df9"
   ]
  },
  {
   "cell_type": "code",
   "execution_count": 12,
   "metadata": {},
   "outputs": [],
   "source": [
    "dfr = pd.read_csv(\"renew2018all.csv\") #import renewable data for 2018 in csv\n",
    "dfr = dfr[[\"LOCATION\", \"Value\"]] #use only the Location and value\n",
    "dfr = dfr.set_index(\"LOCATION\") #Make Country as index\n",
    "dfr = dfr.rename(columns={'Value': 'Total, % of primary energy supply(Renewable), 2018'}) #rename column of Value to Total, % of primary energy supply(Renewable)\n"
   ]
  },
  {
   "cell_type": "code",
   "execution_count": 13,
   "metadata": {},
   "outputs": [
    {
     "name": "stdout",
     "output_type": "stream",
     "text": [
      "     Eletricity Generated(GWh), 2018  \\\n",
      "AGO                            0.000   \n",
      "ALB                         8508.253   \n",
      "ARE                            0.000   \n",
      "ARG                            0.000   \n",
      "ARM                            0.000   \n",
      "..                               ...   \n",
      "WLD                            0.000   \n",
      "YEM                            0.000   \n",
      "ZAF                            0.000   \n",
      "ZMB                            0.000   \n",
      "ZWE                            0.000   \n",
      "\n",
      "     Total, % of primary energy supply(Renewable), 2018  \n",
      "AGO                                          47.976260   \n",
      "ALB                                          43.505480   \n",
      "ARE                                           0.311277   \n",
      "ARG                                           8.221233   \n",
      "ARM                                           9.565959   \n",
      "..                                                 ...   \n",
      "WLD                                          13.523480   \n",
      "YEM                                           5.248347   \n",
      "ZAF                                           6.666344   \n",
      "ZMB                                          81.254660   \n",
      "ZWE                                          70.141790   \n",
      "\n",
      "[145 rows x 2 columns]\n"
     ]
    },
    {
     "name": "stderr",
     "output_type": "stream",
     "text": [
      "/Users/percy/opt/anaconda3/lib/python3.7/site-packages/ipykernel_launcher.py:1: FutureWarning: Sorting because non-concatenation axis is not aligned. A future version\n",
      "of pandas will change to not sort by default.\n",
      "\n",
      "To accept the future behavior, pass 'sort=False'.\n",
      "\n",
      "To retain the current behavior and silence the warning, pass 'sort=True'.\n",
      "\n",
      "  \"\"\"Entry point for launching an IPython kernel.\n"
     ]
    }
   ],
   "source": [
    "tabl1 = pd.concat([df9, dfr], axis=1) #merge the two dataframe side by side \n",
    "\n",
    "#replacing NaN with 0 in either column\n",
    "for i in range(len(tabl1[['Total, % of primary energy supply(Renewable), 2018']])):\n",
    "    if np.isnan(tabl1.iloc[i,0]):\n",
    "        tabl1.iloc[i,0] = 0\n",
    "    if np.isnan(tabl0.iloc[i,1]):\n",
    "        tabl1.iloc[i,1] = 0\n",
    "\n",
    "print(tabl1)"
   ]
  },
  {
   "cell_type": "code",
   "execution_count": 14,
   "metadata": {},
   "outputs": [
    {
     "name": "stdout",
     "output_type": "stream",
     "text": [
      "In 2018, the correlation coefficient between Enelectricy Generated by countries and % of primary renewable energy supply is -0.09384231079147685.\n"
     ]
    },
    {
     "data": {
      "image/png": "[encoded data removed]",
      "text/plain": [
       "<Figure size 432x288 with 1 Axes>"
      ]
     },
     "metadata": {
      "needs_background": "light"
     },
     "output_type": "display_data"
    }
   ],
   "source": [
    "#Finding the correlation of primary energy supply of countries being renewable energy and the amount of electricity generated for countries in 2018.\n",
    "plt.scatter(tabl1['Total, % of primary energy supply(Renewable), 2018'], tabl1['Eletricity Generated(GWh), 2018'])\n",
    "coeff = correlation_coeff(tabl1['Eletricity Generated(GWh), 2018'],tabl1['Total, % of primary energy supply(Renewable), 2018'])\n",
    "print(\"In 2018, the correlation coefficient between Enelectricy Generated by countries and % of primary renewable energy supply is {0}.\".format(coeff))"
   ]
  },
  {
   "cell_type": "markdown",
   "metadata": {},
   "source": [
    "Find the relationship in 2019"
   ]
  },
  {
   "cell_type": "code",
   "execution_count": 15,
   "metadata": {},
   "outputs": [],
   "source": [
    "df3 = pd.read_csv(\"elegen.csv\") #df3 is Electricity produced in Gigawatt-hour for G20 in 2019\n",
    "df3 = df3[[\"LOCATION\", \"Value\"]] #select countries and electricity generated data only\n",
    "df3 = df3.set_index(\"LOCATION\") #Make Country as index\n",
    "df3 = df3.rename(columns={'Value': 'Eletricity Generated(GWh), 2019'}) #rename Value to Electricity Generated column for df3"
   ]
  },
  {
   "cell_type": "code",
   "execution_count": 16,
   "metadata": {},
   "outputs": [],
   "source": [
    "dff = pd.read_csv(\"2019renew.csv\") #dff is % of primary energy supply for renewable energy 2019\n",
    "dff = dff[[\"LOCATION\", \"Value\"]] #select countries and % of primary energy supply (renewable) only\n",
    "dff = dff.set_index(\"LOCATION\") #Make Country as index\n",
    "dff = dff.rename(columns={'Value': 'Total, % of primary energy supply(Renewable), 2019'})"
   ]
  },
  {
   "cell_type": "code",
   "execution_count": 17,
   "metadata": {},
   "outputs": [
    {
     "name": "stdout",
     "output_type": "stream",
     "text": [
      "           Total, % of primary energy supply(Renewable), 2019  \\\n",
      "ARG                                                 8.571218    \n",
      "AUS                                                 7.312959    \n",
      "BRA                                                45.622740    \n",
      "CAN                                                16.153870    \n",
      "CHN                                                 9.673476    \n",
      "DEU                                                15.018650    \n",
      "EU27_2020                                          15.482430    \n",
      "EU28                                               15.129140    \n",
      "FRA                                                10.613270    \n",
      "GBR                                                12.224810    \n",
      "IDN                                                23.879540    \n",
      "IND                                                23.134850    \n",
      "ITA                                                18.134140    \n",
      "JPN                                                 6.270579    \n",
      "KOR                                                 2.000436    \n",
      "MEX                                                 8.609434    \n",
      "OECD                                                0.000000    \n",
      "RUS                                                 2.580188    \n",
      "SAU                                                 0.020953    \n",
      "TUR                                                15.931540    \n",
      "USA                                                 7.903494    \n",
      "ZAF                                                 6.586925    \n",
      "\n",
      "           Eletricity Generated(GWh), 2019  \n",
      "ARG                           0.000000e+00  \n",
      "AUS                           2.505310e+05  \n",
      "BRA                           0.000000e+00  \n",
      "CAN                           6.272290e+05  \n",
      "CHN                           0.000000e+00  \n",
      "DEU                           5.788630e+05  \n",
      "EU27_2020                     0.000000e+00  \n",
      "EU28                          0.000000e+00  \n",
      "FRA                           5.469748e+05  \n",
      "GBR                           3.103385e+05  \n",
      "IDN                           0.000000e+00  \n",
      "IND                           0.000000e+00  \n",
      "ITA                           2.839501e+05  \n",
      "JPN                           1.001494e+06  \n",
      "KOR                           5.590995e+05  \n",
      "MEX                           3.306901e+05  \n",
      "OECD                          1.072743e+07  \n",
      "RUS                           0.000000e+00  \n",
      "SAU                           0.000000e+00  \n",
      "TUR                           2.891358e+05  \n",
      "USA                           4.195573e+06  \n",
      "ZAF                           0.000000e+00  \n"
     ]
    },
    {
     "name": "stderr",
     "output_type": "stream",
     "text": [
      "/Users/percy/opt/anaconda3/lib/python3.7/site-packages/ipykernel_launcher.py:1: FutureWarning: Sorting because non-concatenation axis is not aligned. A future version\n",
      "of pandas will change to not sort by default.\n",
      "\n",
      "To accept the future behavior, pass 'sort=False'.\n",
      "\n",
      "To retain the current behavior and silence the warning, pass 'sort=True'.\n",
      "\n",
      "  \"\"\"Entry point for launching an IPython kernel.\n"
     ]
    }
   ],
   "source": [
    "tabl = pd.concat([dff, df3], axis=1) #merge two dataframes side by side\n",
    "\n",
    "#replace nan with 0 for either column\n",
    "for i in range(len(tabl[['Total, % of primary energy supply(Renewable), 2019']])):\n",
    "    if np.isnan(tabl.iloc[i,0]):\n",
    "        tabl.iloc[i,0] = 0\n",
    "    if np.isnan(tabl.iloc[i,1]):\n",
    "        tabl.iloc[i,1] = 0\n",
    "        \n",
    "    \n",
    "print(tabl)"
   ]
  },
  {
   "cell_type": "code",
   "execution_count": 18,
   "metadata": {},
   "outputs": [
    {
     "name": "stdout",
     "output_type": "stream",
     "text": [
      "In 2019, the correlation coefficient between Enelectricy Generated by countries and % of primary renewable energy supply is -0.31973953808529754.\n"
     ]
    },
    {
     "data": {
      "image/png": "[encoded data removed]",
      "text/plain": [
       "<Figure size 432x288 with 1 Axes>"
      ]
     },
     "metadata": {
      "needs_background": "light"
     },
     "output_type": "display_data"
    }
   ],
   "source": [
    "\n",
    "plt.scatter(tabl['Total, % of primary energy supply(Renewable), 2019'], tabl['Eletricity Generated(GWh), 2019'])\n",
    "coeff = correlation_coeff(tabl['Total, % of primary energy supply(Renewable), 2019'], tabl['Eletricity Generated(GWh), 2019']) #find the correlation coefficienty of the 2 columns\n",
    "print(\"In 2019, the correlation coefficient between Enelectricy Generated by countries and % of primary renewable energy supply is {0}.\".format(coeff))"
   ]
  },
  {
   "cell_type": "markdown",
   "metadata": {},
   "source": [
    "Ans: From all of the correlation coefficient and graphs from 2017-2019 we can tell that there is no direct relation between amount of electricity generated and the % of primary energy supply being renewable energy. "
   ]
  }
 ],
 "metadata": {
  "kernelspec": {
   "display_name": "Python 3",
   "language": "python",
   "name": "python3"
  },
  "language_info": {
   "codemirror_mode": {
    "name": "ipython",
    "version": 3
   },
   "file_extension": ".py",
   "mimetype": "text/x-python",
   "name": "python",
   "nbconvert_exporter": "python",
   "pygments_lexer": "ipython3",
   "version": "3.7.4"
  }
 },
 "nbformat": 4,
 "nbformat_minor": 4
}
